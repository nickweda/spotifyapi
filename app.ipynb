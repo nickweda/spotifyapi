{
 "cells": [
  {
   "cell_type": "code",
   "execution_count": 2,
   "id": "243f3717",
   "metadata": {},
   "outputs": [
    {
     "name": "stdout",
     "output_type": "stream",
     "text": [
      "Collecting spotipy\n",
      "  Downloading spotipy-2.25.1-py3-none-any.whl.metadata (5.1 kB)\n",
      "Collecting redis>=3.5.3 (from spotipy)\n",
      "  Downloading redis-6.2.0-py3-none-any.whl.metadata (10 kB)\n",
      "Collecting requests>=2.25.0 (from spotipy)\n",
      "  Downloading requests-2.32.4-py3-none-any.whl.metadata (4.9 kB)\n",
      "Collecting urllib3>=1.26.0 (from spotipy)\n",
      "  Using cached urllib3-2.4.0-py3-none-any.whl.metadata (6.5 kB)\n",
      "Collecting charset_normalizer<4,>=2 (from requests>=2.25.0->spotipy)\n",
      "  Using cached charset_normalizer-3.4.2-cp313-cp313-manylinux_2_17_x86_64.manylinux2014_x86_64.whl.metadata (35 kB)\n",
      "Collecting idna<4,>=2.5 (from requests>=2.25.0->spotipy)\n",
      "  Using cached idna-3.10-py3-none-any.whl.metadata (10 kB)\n",
      "Collecting certifi>=2017.4.17 (from requests>=2.25.0->spotipy)\n",
      "  Using cached certifi-2025.4.26-py3-none-any.whl.metadata (2.5 kB)\n",
      "Downloading spotipy-2.25.1-py3-none-any.whl (31 kB)\n",
      "Downloading redis-6.2.0-py3-none-any.whl (278 kB)\n",
      "Downloading requests-2.32.4-py3-none-any.whl (64 kB)\n",
      "Using cached charset_normalizer-3.4.2-cp313-cp313-manylinux_2_17_x86_64.manylinux2014_x86_64.whl (148 kB)\n",
      "Using cached idna-3.10-py3-none-any.whl (70 kB)\n",
      "Using cached urllib3-2.4.0-py3-none-any.whl (128 kB)\n",
      "Using cached certifi-2025.4.26-py3-none-any.whl (159 kB)\n",
      "Installing collected packages: urllib3, redis, idna, charset_normalizer, certifi, requests, spotipy\n",
      "\u001b[2K   \u001b[90m━━━━━━━━━━━━━━━━━━━━━━━━━━━━━━━━━━━━━━━━\u001b[0m \u001b[32m7/7\u001b[0m [spotipy]m3/7\u001b[0m [charset_normalizer]\n",
      "\u001b[1A\u001b[2KSuccessfully installed certifi-2025.4.26 charset_normalizer-3.4.2 idna-3.10 redis-6.2.0 requests-2.32.4 spotipy-2.25.1 urllib3-2.4.0\n",
      "Note: you may need to restart the kernel to use updated packages.\n"
     ]
    }
   ],
   "source": [
    "pip install spotipy --upgrade"
   ]
  },
  {
   "cell_type": "markdown",
   "id": "36840f74",
   "metadata": {},
   "source": [
    "Authentication"
   ]
  },
  {
   "cell_type": "code",
   "execution_count": 6,
   "id": "0d5926f7",
   "metadata": {},
   "outputs": [],
   "source": [
    "# https://developer.spotify.com/dashboard\n",
    "\n",
    "client_id = \"7ede66551d49448da4a4c905afba9cb7\"\n",
    "client_secret = \"d65eb9aaef37496987b99f0063429a3c\"\n",
    "redirect_uri = \"http://127.0.0.1:8888/callback\"\n",
    "\n",
    "import spotipy\n",
    "from spotipy.oauth2 import SpotifyOAuth\n",
    "\n",
    "# Set your credentials\n",
    "sp = spotipy.Spotify(auth_manager=SpotifyOAuth(\n",
    "    client_id,\n",
    "    client_secret,\n",
    "    redirect_uri,\n",
    "    scope='user-library-read user-top-read'\n",
    "))"
   ]
  },
  {
   "cell_type": "markdown",
   "id": "c3c1e4e6",
   "metadata": {},
   "source": [
    "Data Exploration"
   ]
  },
  {
   "cell_type": "code",
   "execution_count": 7,
   "id": "a9cf557b",
   "metadata": {},
   "outputs": [
    {
     "name": "stdout",
     "output_type": "stream",
     "text": [
      "=== Your Saved Songs ===\n",
      "1. Curse - Architects\n",
      "2. Low - Nerv\n",
      "3. I Wanna - The All-American Rejects\n",
      "4. Chemicals - Stand Atlantic\n",
      "5. Everything You Say - As December Falls\n",
      "6. Slow Sour Bleed - ERRA\n",
      "7. Made For Love - Archers\n",
      "8. Delete Me - Shallowsky\n",
      "9. Wurst Vacation - Ice Nine Kills\n",
      "10. New Reality - The Word Alive\n",
      "11. Drag the Lake - The Amity Affliction\n",
      "12. Paralyzed - Imminence\n",
      "13. Stockholm Syndrome - ERRA\n",
      "14. Help Me Out! - Our Mirage\n",
      "15. Doomswitch - Make Them Suffer\n",
      "16. Epitaph - Make Them Suffer\n",
      "17. Higher - Sleep Token\n",
      "18. Don't Threaten Me with a Good Time - Panic! At The Disco\n",
      "19. Remember When - Bad Wolves\n",
      "20. Drift - SAVE US\n",
      "\n",
      "=== Your Top Artists ===\n",
      "1. Icon For Hire - ['christian rock']\n",
      "2. Paramore - ['pop punk', 'emo']\n",
      "3. Conquer Divide - ['metalcore']\n",
      "4. Motionless In White - ['metalcore', 'metal', 'screamo']\n",
      "5. Spiritbox - ['metalcore', 'djent', 'metal']\n",
      "6. Against The Current - ['pop punk']\n",
      "7. John Mayer - ['singer-songwriter']\n",
      "8. Pierce The Veil - ['emo', 'screamo', 'post-hardcore']\n",
      "9. Dark Divine - ['metalcore']\n",
      "10. Daedric - []\n"
     ]
    }
   ],
   "source": [
    "# 1. Get Saved Songs\n",
    "saved_tracks = sp.current_user_saved_tracks(limit=20)\n",
    "print(\"=== Your Saved Songs ===\")\n",
    "for idx, item in enumerate(saved_tracks['items']):\n",
    "    track = item['track']\n",
    "    print(f\"{idx+1}. {track['name']} - {track['artists'][0]['name']}\")\n",
    "\n",
    "# 2. Get Top Artists\n",
    "top_artists = sp.current_user_top_artists(limit=10, time_range='medium_term')\n",
    "print(\"\\n=== Your Top Artists ===\")\n",
    "for idx, artist in enumerate(top_artists['items']):\n",
    "    print(f\"{idx+1}. {artist['name']} - {artist['genres']}\")"
   ]
  }
 ],
 "metadata": {
  "kernelspec": {
   "display_name": ".venv",
   "language": "python",
   "name": "python3"
  },
  "language_info": {
   "codemirror_mode": {
    "name": "ipython",
    "version": 3
   },
   "file_extension": ".py",
   "mimetype": "text/x-python",
   "name": "python",
   "nbconvert_exporter": "python",
   "pygments_lexer": "ipython3",
   "version": "3.13.3"
  }
 },
 "nbformat": 4,
 "nbformat_minor": 5
}

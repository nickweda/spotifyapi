{
 "cells": [
  {
   "cell_type": "markdown",
   "id": "3f31851a",
   "metadata": {},
   "source": [
    "# Create a mini-pipeline for new songs not in my original dataset (provide a spotify url)"
   ]
  },
  {
   "cell_type": "code",
   "execution_count": 2,
   "id": "df3d4889",
   "metadata": {},
   "outputs": [
    {
     "name": "stdout",
     "output_type": "stream",
     "text": [
      "Requirement already satisfied: python-dotenv in ./.venv/lib/python3.13/site-packages (1.1.0)\n"
     ]
    }
   ],
   "source": [
    "# Load API secrets from .env file\n",
    "!pip install python-dotenv"
   ]
  },
  {
   "cell_type": "code",
   "execution_count": null,
   "id": "13449061",
   "metadata": {},
   "outputs": [],
   "source": [
    "from dotenv import load_dotenv\n",
    "import os\n",
    "import spotipy\n",
    "from spotipy.oauth2 import SpotifyOAuth\n",
    "\n",
    "# https://developer.spotify.com/dashboard\n",
    "load_dotenv()  # Load variables from .env into environment\n",
    "\n",
    "sp = spotipy.Spotify(auth_manager=SpotifyOAuth(\n",
    "    scope='user-library-read user-top-read user-read-recently-played playlist-read-private playlist-read-collaborative'\n",
    "))"
   ]
  },
  {
   "cell_type": "markdown",
   "id": "d77f8a6c",
   "metadata": {},
   "source": [
    "## Use a Taylor Swift song I've never saved as an example"
   ]
  },
  {
   "cell_type": "markdown",
   "id": "30691a30",
   "metadata": {},
   "source": [
    "### General Features - track_duration, track_popularity, track_release_date, track_explicit, artist_popularity, artist_follower_count, genre_list"
   ]
  },
  {
   "cell_type": "code",
   "execution_count": 25,
   "id": "683e9d62",
   "metadata": {},
   "outputs": [],
   "source": [
    "track_url = 'https://open.spotify.com/track/3hUxzQpSfdDqwM3ZTFQY0K?si=f293d678602c4803' # Taylor Swift - august (going to columbia in august)"
   ]
  },
  {
   "cell_type": "code",
   "execution_count": 26,
   "id": "556aa8ae",
   "metadata": {},
   "outputs": [],
   "source": [
    "# Extract track ID from URL\n",
    "track_id = track_url.split(\"/\")[-1].split(\"?\")[0]\n",
    "\n",
    "# Get track info\n",
    "track_info = sp.track(track_id)\n",
    "\n",
    "# Get artist data\n",
    "artist_id = track_info['artists'][0]['id']\n",
    "artist = sp.artist(artist_id)"
   ]
  },
  {
   "cell_type": "code",
   "execution_count": 27,
   "id": "2bc324b8",
   "metadata": {},
   "outputs": [
    {
     "name": "stdout",
     "output_type": "stream",
     "text": [
      "track_name: august\n",
      "artist_name: Taylor Swift\n",
      "track_duration: 261\n",
      "track_popularity: 87\n",
      "track_release_date: 202007\n",
      "track_explicit: 0\n",
      "artist_popularity: 98\n",
      "artist_follower_count: 140290461\n",
      "genre_list: []\n"
     ]
    }
   ],
   "source": [
    "from datetime import datetime\n",
    "\n",
    "# Extract general features\n",
    "track_name = track_info['name']\n",
    "artist_name = artist['name']\n",
    "track_duration = int(track_info['duration_ms'] / 1000) # in seconds\n",
    "track_popularity = track_info['popularity']\n",
    "track_explicit = int(track_info['explicit'])  # 1 if True, 0 if False\n",
    "artist_popularity = artist['popularity']\n",
    "artist_follower_count = artist['followers']['total']\n",
    "genre_list = artist['genres']  # this is a list of genres\n",
    "\n",
    "# Track Release Date - Datetime format modification\n",
    "release_date_str = track_info['album']['release_date']\n",
    "release_date_obj = datetime.strptime(release_date_str, \"%Y-%m-%d\")# Parse it and format as YYYYMM\n",
    "track_release_date = int(release_date_obj.strftime(\"%Y%m\"))\n",
    "\n",
    "# Print\n",
    "print(f\"track_name: {track_name}\")\n",
    "print(f\"artist_name: {artist_name}\")\n",
    "print(f\"track_duration: {track_duration}\")\n",
    "print(f\"track_popularity: {track_popularity}\")\n",
    "print(f\"track_release_date: {track_release_date}\")\n",
    "print(f\"track_explicit: {track_explicit}\")\n",
    "print(f\"artist_popularity: {artist_popularity}\")\n",
    "print(f\"artist_follower_count: {artist_follower_count}\")\n",
    "print(f\"genre_list: {genre_list}\")"
   ]
  },
  {
   "cell_type": "markdown",
   "id": "d418b59f",
   "metadata": {},
   "source": [
    "### Nick Specific Features - artist_ranking, artist_freq, genre_* (check from CSVs)"
   ]
  },
  {
   "cell_type": "code",
   "execution_count": 28,
   "id": "929f3e1e",
   "metadata": {},
   "outputs": [
    {
     "name": "stdout",
     "output_type": "stream",
     "text": [
      "Artist ranking: 139\n",
      "Artist frequency: 3\n"
     ]
    }
   ],
   "source": [
    "import pandas as pd\n",
    "\n",
    "# Load CSVs\n",
    "artist_ranking = pd.read_csv(\"nick_artist_ranking.csv\", index_col=0).squeeze(\"columns\")\n",
    "artist_freq = pd.read_csv(\"nick_artist_freq.csv\", index_col=0).squeeze(\"columns\")\n",
    "\n",
    "artist_name = artist['name']\n",
    "\n",
    "# Look up the artist in both Series\n",
    "ranking = artist_ranking.get(artist_name, None)\n",
    "freq = artist_freq.get(artist_name, None)\n",
    "\n",
    "# Print results\n",
    "if ranking is not None:\n",
    "    print(f\"Artist ranking: {ranking}\")\n",
    "else:\n",
    "    print(\"Artist not found in ranking data.\")\n",
    "\n",
    "if freq is not None:\n",
    "    print(f\"Artist frequency: {freq}\")\n",
    "else:\n",
    "    print(\"Artist not found in frequency data.\")\n"
   ]
  },
  {
   "cell_type": "code",
   "execution_count": null,
   "id": "f7155459",
   "metadata": {},
   "outputs": [
    {
     "name": "stdout",
     "output_type": "stream",
     "text": [
      "[]\n",
      "{'genre_metalcore': 0, 'genre_post-hardcore': 0, 'genre_emo': 0, 'genre_pop_punk': 0, 'genre_screamo': 0, 'genre_metal': 0, 'genre_classical': 0, 'genre_classical_piano': 0, 'genre_alternative_metal': 0, 'genre_rock': 0, 'genre_chamber_music': 0, 'genre_deathcore': 0, 'genre_post-grunge': 0, 'genre_rap_metal': 0, 'genre_djent': 0, 'genre_nu_metal': 0, 'genre_punk': 0, 'genre_rap': 0, 'genre_christian_rock': 0, 'genre_edm': 0, 'genre_hard_rock': 0, 'genre_progressive_metal': 0}\n"
     ]
    }
   ],
   "source": [
    "# Load the list of genres from file\n",
    "with open(\"nick_artist_genres.txt\", \"r\") as f:\n",
    "    nick_artist_genres = [line.strip() for line in f.readlines()]\n",
    "\n",
    "# Given genre_list from Spotify artist info\n",
    "genre_list = artist['genres']\n",
    "\n",
    "print(genre_list)\n",
    "\n",
    "# Create binary variables for each genre\n",
    "genre_flags = {}\n",
    "\n",
    "for genre in nick_artist_genres:\n",
    "    genre_key = f\"genre_{genre.replace(' ', '_')}\"\n",
    "    genre_flags[genre_key] = int(genre in genre_list)\n",
    "\n",
    "print(genre_flags)\n"
   ]
  },
  {
   "cell_type": "code",
   "execution_count": 30,
   "id": "14470824",
   "metadata": {},
   "outputs": [
    {
     "name": "stdout",
     "output_type": "stream",
     "text": [
      " track_duration  track_popularity  track_release_date  track_explicit  artist_popularity  artist_follower_count  artist_ranking  artist_freq  genre_metalcore  genre_post-hardcore  genre_emo  genre_pop_punk  genre_screamo  genre_metal  genre_classical  genre_classical_piano  genre_alternative_metal  genre_rock  genre_chamber_music  genre_deathcore  genre_post-grunge  genre_rap_metal  genre_djent  genre_nu_metal  genre_punk  genre_rap  genre_christian_rock  genre_edm  genre_hard_rock  genre_progressive_metal\n",
      "            261                87              202007               0                 98              140290461             139            3                0                    0          0               0              0            0                0                      0                        0           0                    0                0                  0                0            0               0           0          0                     0          0                0                        0\n"
     ]
    }
   ],
   "source": [
    "# Combine all features into one dictionary\n",
    "row_data = {\n",
    "    'track_duration': track_duration,\n",
    "    'track_popularity': track_popularity,\n",
    "    'track_release_date': track_release_date,\n",
    "    'track_explicit': track_explicit,\n",
    "    'artist_popularity': artist_popularity,\n",
    "    'artist_follower_count': artist_follower_count,\n",
    "    'artist_ranking': ranking,\n",
    "    'artist_freq': freq,\n",
    "    **genre_flags  # unpack all genre feature flags\n",
    "}\n",
    "\n",
    "# Convert to single-row DataFrame\n",
    "df_row = pd.DataFrame([row_data])\n",
    "\n",
    "# Display the resulting row\n",
    "print(df_row.to_string(index=False))"
   ]
  },
  {
   "cell_type": "code",
   "execution_count": 31,
   "id": "d9e4c51d",
   "metadata": {},
   "outputs": [],
   "source": [
    "# Data is now ready for the model"
   ]
  },
  {
   "cell_type": "markdown",
   "id": "1c015ef0",
   "metadata": {},
   "source": [
    "***"
   ]
  },
  {
   "cell_type": "markdown",
   "id": "d843f1ff",
   "metadata": {},
   "source": [
    "# Create a prediction from model on Data"
   ]
  },
  {
   "cell_type": "code",
   "execution_count": 32,
   "id": "d16222cb",
   "metadata": {},
   "outputs": [
    {
     "name": "stdout",
     "output_type": "stream",
     "text": [
      "Predicted class: 0\n"
     ]
    }
   ],
   "source": [
    "import joblib\n",
    "\n",
    "model = joblib.load(\"lightgbm_model.pkl\")\n",
    "\n",
    "prediction = model.predict(df_row)  # returns 0 or 1\n",
    "probability = model.predict_proba(df_row)[:, 1]  # probability of class 1\n",
    "\n",
    "print(\"Predicted class:\", prediction[0])\n",
    "#print(\"Probability of being top song:\", probability[0])"
   ]
  },
  {
   "cell_type": "markdown",
   "id": "854316d7",
   "metadata": {},
   "source": [
    "## Sorry Taylor, the model says your song wouldn't be in my favorites and I agree"
   ]
  }
 ],
 "metadata": {
  "kernelspec": {
   "display_name": ".venv",
   "language": "python",
   "name": "python3"
  },
  "language_info": {
   "codemirror_mode": {
    "name": "ipython",
    "version": 3
   },
   "file_extension": ".py",
   "mimetype": "text/x-python",
   "name": "python",
   "nbconvert_exporter": "python",
   "pygments_lexer": "ipython3",
   "version": "3.13.3"
  }
 },
 "nbformat": 4,
 "nbformat_minor": 5
}

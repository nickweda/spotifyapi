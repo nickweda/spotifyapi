{
 "cells": [
  {
   "cell_type": "markdown",
   "id": "47908759",
   "metadata": {},
   "source": [
    "# Making Top Song Prediction"
   ]
  },
  {
   "cell_type": "markdown",
   "id": "b14a8997",
   "metadata": {},
   "source": [
    "***"
   ]
  },
  {
   "cell_type": "markdown",
   "id": "9cf50527",
   "metadata": {},
   "source": [
    "## Importing Data with SQLite and cleaning table with Pandas"
   ]
  },
  {
   "cell_type": "code",
   "execution_count": 20,
   "id": "5fee9675",
   "metadata": {},
   "outputs": [],
   "source": [
    "import sqlite3\n",
    "import pandas as pd"
   ]
  },
  {
   "cell_type": "code",
   "execution_count": 79,
   "id": "3899dd61",
   "metadata": {},
   "outputs": [
    {
     "name": "stdout",
     "output_type": "stream",
     "text": [
      "                           name\n",
      "0                        tracks\n",
      "1                       spotify\n",
      "2  spotify_dropped_ids_pictures\n"
     ]
    }
   ],
   "source": [
    "# Connect to DB\n",
    "conn = sqlite3.connect(\"spotify.db\") \n",
    "\n",
    "# Grab tables\n",
    "tables = pd.read_sql_query(\"SELECT name FROM sqlite_master WHERE type='table';\", conn)\n",
    "print(tables)\n",
    "\n",
    "# Select Table\n",
    "table_name = tables.iloc[1, 0]  # second table with lowercase column names, 'spotify'"
   ]
  },
  {
   "cell_type": "code",
   "execution_count": 122,
   "id": "06a46a96",
   "metadata": {},
   "outputs": [
    {
     "name": "stdout",
     "output_type": "stream",
     "text": [
      "\n",
      "First Entries:\n",
      "                  track_name         artist_name           album_name track_duration  track_popularity track_release_date  explicit         isrc                  artist_genre  artist_popularity  artist_follower_count                                                    album_picture                                                   artist_picture               album_id               track_id              artist_id  top_songs_rating  top_artist_ranking           date_added\n",
      "                     Sarcasm          Get Scared    Best Kind Of Mess           3:18                67         2010-01-01         1 USUM71021465 emo, metalcore, post-hardcore                 58                 764241 https://i.scdn.co/image/ab67616d0000b27381c8341abbed9421975ca71d https://i.scdn.co/image/ab6761610000e5eb0aaa9d35794ed0470d2f5072 3xkOfH5nqIMm4b8qDWlzLj 40i81AcCCxiVEFUWElcjZC 5r9uIJCoquVtEkCkvcn8Ez                 1                21.0 2023-05-02T19:26:56Z\n",
      "                 Glass Heart             Caskets           Lost Souls           3:44                68         2021-08-13         0 DED832001047      metalcore, post-hardcore                 61                 209521 https://i.scdn.co/image/ab67616d0000b2736bbd5c58e7be013e8e83dcb3 https://i.scdn.co/image/ab6761610000e5ebd1f782d80e77de33906e2819 1Rty2CL0UZeJWeCcCiXmhg 1nxbn0COjeyH7MQZ27T3CR 2XIbOWDT5vZPW7jNyzdfcK                 2                14.0 2023-08-05T05:49:38Z\n",
      "                      weapon Against The Current                fever           3:17                59         2021-07-23         0 USAT22100747                      pop punk                 64                 532952 https://i.scdn.co/image/ab67616d0000b273186660bbf3b0dd9a5195e182 https://i.scdn.co/image/ab6761610000e5eb469aba515a0815396f1c432c 4MwOuqjdK7OP1xaRPo83xT 5z0QlOV93W6Yo7DG2SYOJP 6yhD1KjhLxIETFF7vIRf8B                 3                12.0 2023-03-05T06:23:54Z\n",
      "One Hundred Sleepless Nights     Pierce The Veil Collide With The Sky           3:41                69         2012-07-17         0 US5261216610   emo, screamo, post-hardcore                 77                3583033 https://i.scdn.co/image/ab67616d0000b273077cac00c2d9075e6f742570 https://i.scdn.co/image/ab6761610000e5eb6f8f8d13be17bf486219edc7 661Hz0qJK8WIp7vAWsqKvk 5TNX6rJ91T8PdEt94X50Y9 4iJLPqClelZOBCBifm8Fzv                 4                 4.0 2023-09-17T05:20:13Z\n",
      "              Lost in Echoes             Caskets           Lost Souls           3:37                66         2021-08-13         0 DED832001347      metalcore, post-hardcore                 61                 209521 https://i.scdn.co/image/ab67616d0000b2736bbd5c58e7be013e8e83dcb3 https://i.scdn.co/image/ab6761610000e5ebd1f782d80e77de33906e2819 1Rty2CL0UZeJWeCcCiXmhg 13YWByXibBltt3T5u3IcT7 2XIbOWDT5vZPW7jNyzdfcK                 5                14.0 2023-09-08T08:43:50Z\n",
      "6418\n"
     ]
    }
   ],
   "source": [
    "# Read into pandas df\n",
    "df = pd.read_sql_query(f\"SELECT * FROM {table_name};\", conn) # Takes a sql query and sql connection\n",
    "\n",
    "# Peek the tables\n",
    "print(\"\\nFirst Entries:\")\n",
    "# print(df.head())\n",
    "print(df.head().to_string(index=False)) # remove line wrapping in notebook\n",
    "print(len(df))"
   ]
  },
  {
   "cell_type": "code",
   "execution_count": 123,
   "id": "5d38ebd3",
   "metadata": {},
   "outputs": [
    {
     "name": "stdout",
     "output_type": "stream",
     "text": [
      "                  track_name         artist_name           album_name  track_duration  track_popularity  track_release_date  explicit                  artist_genre  artist_popularity  artist_follower_count  top_songs_rating  top_artist_ranking\n",
      "                     Sarcasm          Get Scared    Best Kind Of Mess             198                67              201001         1 emo, metalcore, post-hardcore                 58                 764241                 1                  21\n",
      "                 Glass Heart             Caskets           Lost Souls             224                68              202108         0      metalcore, post-hardcore                 61                 209521                 2                  14\n",
      "                      weapon Against The Current                fever             197                59              202107         0                      pop punk                 64                 532952                 3                  12\n",
      "One Hundred Sleepless Nights     Pierce The Veil Collide With The Sky             221                69              201207         0   emo, screamo, post-hardcore                 77                3583033                 4                   4\n",
      "              Lost in Echoes             Caskets           Lost Souls             217                66              202108         0      metalcore, post-hardcore                 61                 209521                 5                  14\n",
      "6183\n"
     ]
    }
   ],
   "source": [
    "# Data Cleaning\n",
    "\n",
    "# Drop IDs and Link Features\n",
    "df.drop(columns=[\n",
    "    'album_picture',\n",
    "    'artist_picture',\n",
    "    'album_id',\n",
    "    'track_id',\n",
    "    'artist_id',\n",
    "    'isrc',\n",
    "    'date_added' # Half of my dataset is missing this value, will have to ignore temporal context of tracks\n",
    "], inplace=True)\n",
    "\n",
    "# Extract Year and Month from Date Features (numerically)\n",
    "\n",
    "df['track_release_date'] = pd.to_datetime(df['track_release_date'], errors='coerce')\n",
    "# df['date_added'] = pd.to_datetime(df['date_added'], errors='coerce')\n",
    "\n",
    "# Overwrite with numeric YYYYMM (int)\n",
    "df = df[df['track_release_date'].notna()] # Drop NULLS, rare (only 235 entries)\n",
    "\n",
    "df['track_release_date'] = df['track_release_date'].dt.strftime('%Y%m').astype(int)\n",
    "\n",
    "###\n",
    "\n",
    "# top_artist_ranking type double -> int\n",
    "df['top_artist_ranking'] = df['top_artist_ranking'].fillna(0).astype(int)\n",
    "df['top_artist_ranking'] = df['top_artist_ranking'].astype(int)\n",
    "\n",
    "\n",
    "# Convert 'track_duration' from MM:SS to total seconds (int)\n",
    "df['track_duration'] = df['track_duration'].str.split(':').apply(\n",
    "    lambda x: int(x[0]) * 60 + int(x[1])\n",
    ")\n",
    "\n",
    "print(df.head().to_string(index=False)) # remove line wrapping in notebook\n",
    "print(len(df))"
   ]
  },
  {
   "cell_type": "markdown",
   "id": "64299880",
   "metadata": {},
   "source": [
    "## Defining target variable - my_top_songs (Binary Classification)\n",
    "\n",
    "### Top Song Definition: **Top 10%** of my total saved songs (Quintile) (~600 songs)"
   ]
  },
  {
   "cell_type": "code",
   "execution_count": 126,
   "id": "7016c188",
   "metadata": {},
   "outputs": [
    {
     "name": "stdout",
     "output_type": "stream",
     "text": [
      "                  track_name         artist_name           album_name  track_duration  track_popularity  track_release_date  explicit                  artist_genre  artist_popularity  artist_follower_count  top_artist_ranking  my_top_songs\n",
      "                     Sarcasm          Get Scared    Best Kind Of Mess             198                67              201001         1 emo, metalcore, post-hardcore                 58                 764241                  21             1\n",
      "                 Glass Heart             Caskets           Lost Souls             224                68              202108         0      metalcore, post-hardcore                 61                 209521                  14             1\n",
      "                      weapon Against The Current                fever             197                59              202107         0                      pop punk                 64                 532952                  12             1\n",
      "One Hundred Sleepless Nights     Pierce The Veil Collide With The Sky             221                69              201207         0   emo, screamo, post-hardcore                 77                3583033                   4             1\n",
      "              Lost in Echoes             Caskets           Lost Souls             217                66              202108         0      metalcore, post-hardcore                 61                 209521                  14             1\n"
     ]
    }
   ],
   "source": [
    "# Convert the top_songs_rating feature into a binary feature, where positive when a song is in the top 10% of my songs\n",
    "\n",
    "cutoff = int(len(df) * 0.10)  # top 10% of songs\n",
    "df['my_top_songs'] = df['top_songs_rating'] <= cutoff\n",
    "df['my_top_songs'] = df['my_top_songs'].astype(int)  # Convert boolean to 0/1\n",
    "\n",
    "df.drop(columns=['top_songs_rating'], inplace=True) # cleanup\n",
    "\n",
    "print(df.head().to_string(index=False)) # remove line wrapping in notebook"
   ]
  },
  {
   "cell_type": "code",
   "execution_count": 127,
   "id": "4b4a039f",
   "metadata": {},
   "outputs": [],
   "source": [
    "df.to_csv(\"checking_in.csv\", index=False)"
   ]
  },
  {
   "cell_type": "code",
   "execution_count": null,
   "id": "62179710",
   "metadata": {},
   "outputs": [],
   "source": [
    "# Categorical Data Encoding\n",
    "\n",
    "# Needing some help here, need to take an NLP class\n",
    "\n",
    "\n",
    "# Label Encoding - [0,1,2,3,4,5]\n",
    "# Target Encoding\n",
    "\n",
    "\n",
    "# Most imporant features?\n",
    "# - Genre: Need to specially handle this encoding\n",
    "# - "
   ]
  },
  {
   "cell_type": "code",
   "execution_count": null,
   "id": "04c7829d",
   "metadata": {},
   "outputs": [],
   "source": []
  }
 ],
 "metadata": {
  "kernelspec": {
   "display_name": ".venv",
   "language": "python",
   "name": "python3"
  },
  "language_info": {
   "codemirror_mode": {
    "name": "ipython",
    "version": 3
   },
   "file_extension": ".py",
   "mimetype": "text/x-python",
   "name": "python",
   "nbconvert_exporter": "python",
   "pygments_lexer": "ipython3",
   "version": "3.13.3"
  }
 },
 "nbformat": 4,
 "nbformat_minor": 5
}
